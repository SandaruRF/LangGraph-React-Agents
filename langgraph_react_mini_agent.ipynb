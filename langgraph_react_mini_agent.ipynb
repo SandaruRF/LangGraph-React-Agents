{
  "nbformat": 4,
  "nbformat_minor": 0,
  "metadata": {
    "colab": {
      "provenance": [],
      "gpuType": "T4"
    },
    "kernelspec": {
      "name": "python3",
      "display_name": "Python 3"
    },
    "language_info": {
      "name": "python"
    },
    "accelerator": "GPU"
  },
  "cells": [
    {
      "cell_type": "code",
      "execution_count": 1,
      "metadata": {
        "id": "3wCEUwaa-gM0"
      },
      "outputs": [],
      "source": [
        "!pip -q install langchain-core langchain-community langgraph langchain-google-genai duckduckgo-search"
      ]
    },
    {
      "cell_type": "code",
      "source": [
        "import os\n",
        "from google.colab import userdata\n",
        "\n",
        "os.environ[\"GOOGLE_API_KEY\"] = userdata.get(\"GOOGLE_API_KEY\")"
      ],
      "metadata": {
        "id": "VD5j5Vd6-vz8"
      },
      "execution_count": 2,
      "outputs": []
    },
    {
      "cell_type": "code",
      "source": [
        "from langchain_google_genai import ChatGoogleGenerativeAI\n",
        "llm = ChatGoogleGenerativeAI(model=\"gemini-2.0-flash\")"
      ],
      "metadata": {
        "id": "_pfXLvPtBbCp"
      },
      "execution_count": 3,
      "outputs": []
    },
    {
      "cell_type": "markdown",
      "source": [
        "Tools"
      ],
      "metadata": {
        "id": "jxi-PNPVCyRj"
      }
    },
    {
      "cell_type": "code",
      "source": [
        "def multiply(a: int, b: int) -> int:\n",
        "  \"\"\"Multiply a and b.\n",
        "\n",
        "  Args:\n",
        "      a: first int\n",
        "      b: second int\n",
        "  \"\"\"\n",
        "  return a*b\n",
        "\n",
        "def add(a: int, b: int) -> int:\n",
        "  \"\"\"Adds a and b.\n",
        "\n",
        "  Args:\n",
        "      a: first int\n",
        "      b: second int\n",
        "  \"\"\"\n",
        "  return a+b\n",
        "\n",
        "def divide(a: int, b: int) -> float:\n",
        "  \"\"\"Divide a and b.\n",
        "\n",
        "  Args:\n",
        "      a: first int\n",
        "      b: second int\n",
        "  \"\"\"\n",
        "  return a/b"
      ],
      "metadata": {
        "id": "nnRNJOVbBp5Z"
      },
      "execution_count": 4,
      "outputs": []
    },
    {
      "cell_type": "code",
      "source": [
        "from langchain_community.tools import DuckDuckGoSearchRun\n",
        "search = DuckDuckGoSearchRun()\n",
        "search.invoke(\"How old is Donald Trump?\")"
      ],
      "metadata": {
        "colab": {
          "base_uri": "https://localhost:8080/",
          "height": 139
        },
        "id": "v5r0xrm3DEnQ",
        "outputId": "aaf8cac0-1a8d-413d-d576-6fc0cb330aeb"
      },
      "execution_count": 5,
      "outputs": [
        {
          "output_type": "execute_result",
          "data": {
            "text/plain": [
              "\"Donald Trump's physical health, including coronary artery disease and a history of severe Covid-19, has raised red flags. ... which would end on January 20, 2029, when he will be 82 years old. Donald Trump's health under scrutiny. Donald Trump's physical health has long been a subject of public scrutiny, and a 2018 physical revealed that he ... How old is Donald Trump? Trump was born on June 14, 1946. On the day of his inauguration, he will be 78 years, 7 months, 6 days, excluding Jan. 20, according to TimeandDate's age calculator. How old is Donald Trump? Trump is 78, the same age Biden when we was sworn in 2021. But, Trump has a June 14 birthday, making him a few months older than Biden was he was sworn in. In a rare speechless moment Sunday, Donald Trump stepped back from the microphone as his Las Vegas supporters spontaneously broke into a disjointed rendition of the world's most recognizable song. How old is Donald Trump? Trump, 78, was born June 14, 1946. He became the 45th president in his first term at the age of 70. However, at the time of his next inauguration on Jan. 20, 2025, he will ...\""
            ],
            "application/vnd.google.colaboratory.intrinsic+json": {
              "type": "string"
            }
          },
          "metadata": {},
          "execution_count": 5
        }
      ]
    },
    {
      "cell_type": "code",
      "source": [
        "tools = [add, multiply, divide, search]\n",
        "llm_with_tools = llm.bind_tools(tools)"
      ],
      "metadata": {
        "id": "-EtLspFnDO_a"
      },
      "execution_count": 6,
      "outputs": []
    },
    {
      "cell_type": "code",
      "source": [
        "from langgraph.graph import MessagesState\n",
        "from langchain_core.messages import HumanMessage, SystemMessage\n",
        "\n",
        "sys_msg = SystemMessage(content=\"You are a helpful assistant tasked with using search and performing arithmetic on a set of inputs.\")"
      ],
      "metadata": {
        "id": "MFc1RVSsEIop"
      },
      "execution_count": 7,
      "outputs": []
    },
    {
      "cell_type": "markdown",
      "source": [
        "Nodes"
      ],
      "metadata": {
        "id": "8ifv7GhuEtAq"
      }
    },
    {
      "cell_type": "code",
      "source": [
        "def reasoner(state: MessagesState):\n",
        "  return {\"messages\": [llm_with_tools.invoke([sys_msg] + state[\"messages\"])]}"
      ],
      "metadata": {
        "id": "gQy3eZSLEj_k"
      },
      "execution_count": 8,
      "outputs": []
    },
    {
      "cell_type": "markdown",
      "source": [
        "Building the graph"
      ],
      "metadata": {
        "id": "FwJrhRU5FgXB"
      }
    },
    {
      "cell_type": "code",
      "source": [
        "from langgraph.graph import START, StateGraph\n",
        "from langgraph.prebuilt import tools_condition\n",
        "from langgraph.prebuilt import ToolNode\n",
        "from IPython.display import display, Image\n",
        "\n",
        "#Graph\n",
        "builder = StateGraph(MessagesState)\n",
        "\n",
        "#Add nodes\n",
        "builder.add_node(\"reasoner\", reasoner)\n",
        "builder.add_node(\"tools\", ToolNode(tools))\n",
        "\n",
        "#Add edges\n",
        "builder.add_edge(START, \"reasoner\")\n",
        "builder.add_conditional_edges(\n",
        "    \"reasoner\",\n",
        "    tools_condition,\n",
        ")\n",
        "builder.add_edge(\"tools\", \"reasoner\")\n",
        "react_graph = builder.compile()\n",
        "\n",
        "#Display the graph\n",
        "display(Image(react_graph.get_graph(xray=True).draw_mermaid_png()))"
      ],
      "metadata": {
        "colab": {
          "base_uri": "https://localhost:8080/",
          "height": 266
        },
        "id": "tv_cOcxZFIoh",
        "outputId": "01dfd7ec-bee2-416b-c27f-751cbc1ce67c"
      },
      "execution_count": 9,
      "outputs": [
        {
          "output_type": "display_data",
          "data": {
            "image/png": "[encoded data removed]",
            "text/plain": [
              "<IPython.core.display.Image object>"
            ]
          },
          "metadata": {}
        }
      ]
    },
    {
      "cell_type": "code",
      "source": [
        "messages = [HumanMessage(content=\"What is 2 times Donuld Trump's age?\")]\n",
        "messages = react_graph.invoke({\"messages\": messages})"
      ],
      "metadata": {
        "id": "9eaNAdwrGIcs"
      },
      "execution_count": 10,
      "outputs": []
    },
    {
      "cell_type": "code",
      "source": [
        "for m in messages['messages']:\n",
        "  m.pretty_print()"
      ],
      "metadata": {
        "colab": {
          "base_uri": "https://localhost:8080/"
        },
        "id": "VTcus_1kLTNW",
        "outputId": "7ffe679c-aa7f-42cf-f227-0b2dc043398b"
      },
      "execution_count": 11,
      "outputs": [
        {
          "output_type": "stream",
          "name": "stdout",
          "text": [
            "================================\u001b[1m Human Message \u001b[0m=================================\n",
            "\n",
            "What is 2 times Donuld Trump's age?\n",
            "==================================\u001b[1m Ai Message \u001b[0m==================================\n",
            "Tool Calls:\n",
            "  duckduckgo_search (a3596bd2-27c9-40e2-a7c0-0ef19e59016a)\n",
            " Call ID: a3596bd2-27c9-40e2-a7c0-0ef19e59016a\n",
            "  Args:\n",
            "    query: Donald Trump age\n",
            "=================================\u001b[1m Tool Message \u001b[0m=================================\n",
            "Name: duckduckgo_search\n",
            "\n",
            "How old is Donald Trump? Trump is 78, the same age Biden when we was sworn in 2021. But, Trump has a June 14 birthday, making him a few months older than Biden was he was sworn in. Donald Trump (born June 14, 1946, New York, New York, U.S.) is the 45th and 47th president of the United States (2017-21; 2025- ). Following his inauguration on January 20, 2025, Trump became only the second president to serve two nonconsecutive terms, the first being Grover Cleveland (1885-89; 1893-97). In January 2025, upon his sentencing without punishment for a felony conviction in ... President Donald Trump has seen a major improvement in his approval ratings among those aged 18-29, according to a poll. The White House has been contacted for comment via email. Why It Matters Donald Trump is the 45th and 47th U.S. president who was previously a real estate mogul and reality TV star. ... At age 78, Trump is the oldest person to be elected president and follows Grover ... It's an age that has clearly occupied space in Trump's mind for some time. \"Just remember what I'm telling you: 78 is not old,\" Trump asserted to a New York Post gossip columnist almost ...\n",
            "==================================\u001b[1m Ai Message \u001b[0m==================================\n",
            "\n",
            "Donald Trump is 78 years old.\n",
            "Tool Calls:\n",
            "  multiply (e7b93c22-17f4-4b5c-a661-cf24cd8e514d)\n",
            " Call ID: e7b93c22-17f4-4b5c-a661-cf24cd8e514d\n",
            "  Args:\n",
            "    a: 2.0\n",
            "    b: 78.0\n",
            "=================================\u001b[1m Tool Message \u001b[0m=================================\n",
            "Name: multiply\n",
            "\n",
            "156\n",
            "==================================\u001b[1m Ai Message \u001b[0m==================================\n",
            "\n",
            "Donald Trump is 78 years old. Two times his age is 156.\n"
          ]
        }
      ]
    },
    {
      "cell_type": "code",
      "source": [
        "!pip -q install yahoo-finance"
      ],
      "metadata": {
        "colab": {
          "base_uri": "https://localhost:8080/"
        },
        "id": "DhXsdPG9NFf6",
        "outputId": "fd44e0aa-6b23-4c79-c08f-1648d87a8a17"
      },
      "execution_count": 12,
      "outputs": [
        {
          "output_type": "stream",
          "name": "stdout",
          "text": [
            "  Preparing metadata (setup.py) ... \u001b[?25l\u001b[?25hdone\n",
            "\u001b[2K   \u001b[90m━━━━━━━━━━━━━━━━━━━━━━━━━━━━━━━━━━━━━━━━\u001b[0m \u001b[32m144.8/144.8 kB\u001b[0m \u001b[31m4.6 MB/s\u001b[0m eta \u001b[36m0:00:00\u001b[0m\n",
            "\u001b[?25h  Building wheel for yahoo-finance (setup.py) ... \u001b[?25l\u001b[?25hdone\n"
          ]
        }
      ]
    },
    {
      "cell_type": "code",
      "source": [
        "import yfinance as yf\n",
        "\n",
        "def get_stock_price(ticker: str) -> float:\n",
        "  \"\"\"Gets a stock price from Yahoo Finance.\n",
        "\n",
        "  Args:\n",
        "      ticker: ticker str\n",
        "  \"\"\"\n",
        "  stock = yf.Ticker(ticker)\n",
        "  return stock.info['previousClose']"
      ],
      "metadata": {
        "id": "KNtlfRCSOfC5"
      },
      "execution_count": 13,
      "outputs": []
    },
    {
      "cell_type": "code",
      "source": [
        "get_stock_price(\"AAPL\")"
      ],
      "metadata": {
        "colab": {
          "base_uri": "https://localhost:8080/"
        },
        "id": "fPJRBgQJPeB4",
        "outputId": "4469de88-8eec-46ee-dbcc-821c8f1f10e7"
      },
      "execution_count": 16,
      "outputs": [
        {
          "output_type": "execute_result",
          "data": {
            "text/plain": [
              "238.03"
            ]
          },
          "metadata": {},
          "execution_count": 16
        }
      ]
    },
    {
      "cell_type": "code",
      "source": [
        "#Node\n",
        "def reasoner(state):\n",
        "  query = state[\"query\"]\n",
        "  messages = state[\"messages\"]\n",
        "  #System message\n",
        "  sys_msg = SystemMessage(content=\"You are a helpful assistant tasked with using search, the yahoo finance tool and performing arithmetic on a set of inputs.\")\n",
        "  #Human message\n",
        "  message = HumanMessage(content=query)\n",
        "  messages.append(message)\n",
        "  result = [llm_with_tools.invoke([sys_msg] + messages)]\n",
        "  return {\"messages\": result}"
      ],
      "metadata": {
        "id": "tIZyTuEzPhdh"
      },
      "execution_count": 17,
      "outputs": []
    },
    {
      "cell_type": "code",
      "source": [
        "tools = [add, multiply, divide, search, get_stock_price]\n",
        "llm = ChatGoogleGenerativeAI(model=\"gemini-2.0-flash\")\n",
        "llm_with_tools = llm.bind_tools(tools)"
      ],
      "metadata": {
        "id": "nJSJsy_yQsy7"
      },
      "execution_count": 18,
      "outputs": []
    },
    {
      "cell_type": "code",
      "source": [
        "tools[4]"
      ],
      "metadata": {
        "colab": {
          "base_uri": "https://localhost:8080/",
          "height": 155
        },
        "id": "BHaQ4Y0DQ0xn",
        "outputId": "c44bc919-d935-4511-ed48-942bea676634"
      },
      "execution_count": 19,
      "outputs": [
        {
          "output_type": "execute_result",
          "data": {
            "text/plain": [
              "<function __main__.get_stock_price(ticker: str) -> float>"
            ],
            "text/html": [
              "<div style=\"max-width:800px; border: 1px solid var(--colab-border-color);\"><style>\n",
              "      pre.function-repr-contents {\n",
              "        overflow-x: auto;\n",
              "        padding: 8px 12px;\n",
              "        max-height: 500px;\n",
              "      }\n",
              "\n",
              "      pre.function-repr-contents.function-repr-contents-collapsed {\n",
              "        cursor: pointer;\n",
              "        max-height: 100px;\n",
              "      }\n",
              "    </style>\n",
              "    <pre style=\"white-space: initial; background:\n",
              "         var(--colab-secondary-surface-color); padding: 8px 12px;\n",
              "         border-bottom: 1px solid var(--colab-border-color);\"><b>get_stock_price</b><br/>def get_stock_price(ticker: str) -&gt; float</pre><pre class=\"function-repr-contents function-repr-contents-collapsed\" style=\"\"><a class=\"filepath\" style=\"display:none\" href=\"#\">/content/&lt;ipython-input-13-af930abc4fcd&gt;</a>Gets a stock price from Yahoo Finance.\n",
              "\n",
              "Args:\n",
              "    ticker: ticker str</pre></div>"
            ]
          },
          "metadata": {},
          "execution_count": 19
        }
      ]
    },
    {
      "cell_type": "code",
      "source": [
        "from typing import Annotated, TypedDict\n",
        "import operator\n",
        "from langchain_core.messages import AnyMessage\n",
        "from langgraph.graph.message import add_messages\n",
        "\n",
        "class GraphState(TypedDict):\n",
        "  \"\"\"State of the graph.\"\"\"\n",
        "  query: str\n",
        "  finance: str\n",
        "  final_answer: str\n",
        "  messages: Annotated[list[AnyMessage], operator.add]"
      ],
      "metadata": {
        "id": "3V-6JGdBRi_V"
      },
      "execution_count": 20,
      "outputs": []
    },
    {
      "cell_type": "code",
      "source": [
        "from langgraph.graph import START, StateGraph\n",
        "from langgraph.prebuilt import tools_condition\n",
        "from langgraph.prebuilt import ToolNode\n",
        "\n",
        "#Graph\n",
        "workflow = StateGraph(GraphState)\n",
        "\n",
        "#Add Nodes\n",
        "workflow.add_node(\"reasoner\", reasoner)\n",
        "workflow.add_node(\"tools\", ToolNode(tools))\n",
        "\n",
        "#Add Edges\n",
        "workflow.add_edge(START, \"reasoner\")\n",
        "workflow.add_conditional_edges(\n",
        "    \"reasoner\",\n",
        "    tools_condition,\n",
        ")\n",
        "workflow.add_edge(\"tools\", \"reasoner\")\n",
        "react_graph = workflow.compile()\n",
        "\n",
        "#Show\n",
        "display(Image(react_graph.get_graph(xray=True).draw_mermaid_png()))"
      ],
      "metadata": {
        "colab": {
          "base_uri": "https://localhost:8080/",
          "height": 266
        },
        "id": "QdFZiVkTQ2zB",
        "outputId": "87b726c3-57cc-44b7-91f9-6886bce14ff6"
      },
      "execution_count": 21,
      "outputs": [
        {
          "output_type": "display_data",
          "data": {
            "image/png": "[encoded data removed]",
            "text/plain": [
              "<IPython.core.display.Image object>"
            ]
          },
          "metadata": {}
        }
      ]
    },
    {
      "cell_type": "code",
      "source": [
        "response = react_graph.invoke({\"query\": \"What is 2 times Brad Pitt's age?\", \"messages\": []})"
      ],
      "metadata": {
        "id": "RKq882D4S8AF"
      },
      "execution_count": 22,
      "outputs": []
    },
    {
      "cell_type": "code",
      "source": [
        "response['messages'][-1].pretty_print()"
      ],
      "metadata": {
        "colab": {
          "base_uri": "https://localhost:8080/"
        },
        "id": "1yQ0HXnxTRHC",
        "outputId": "c5b42cd7-f320-480d-f2f5-bed8db982ac0"
      },
      "execution_count": 23,
      "outputs": [
        {
          "output_type": "stream",
          "name": "stdout",
          "text": [
            "==================================\u001b[1m Ai Message \u001b[0m==================================\n",
            "\n",
            "2 times Brad Pitt's age is 120.\n"
          ]
        }
      ]
    },
    {
      "cell_type": "code",
      "source": [
        "response = react_graph.invoke({\"query\": \"What is the stock price of Apple?\", \"messages\": []})"
      ],
      "metadata": {
        "id": "qz06Nid1TXXw"
      },
      "execution_count": 24,
      "outputs": []
    },
    {
      "cell_type": "code",
      "source": [
        "for m in response['messages']:\n",
        "  m.pretty_print()"
      ],
      "metadata": {
        "colab": {
          "base_uri": "https://localhost:8080/"
        },
        "id": "lll-Vr4qTh4j",
        "outputId": "898d324a-5aa2-4505-bb6b-c31ace989e4a"
      },
      "execution_count": 25,
      "outputs": [
        {
          "output_type": "stream",
          "name": "stdout",
          "text": [
            "================================\u001b[1m Human Message \u001b[0m=================================\n",
            "\n",
            "What is the stock price of Apple?\n",
            "==================================\u001b[1m Ai Message \u001b[0m==================================\n",
            "Tool Calls:\n",
            "  get_stock_price (0e250b89-b126-437f-bb4a-da47a8698d30)\n",
            " Call ID: 0e250b89-b126-437f-bb4a-da47a8698d30\n",
            "  Args:\n",
            "    ticker: AAPL\n",
            "=================================\u001b[1m Tool Message \u001b[0m=================================\n",
            "Name: get_stock_price\n",
            "\n",
            "238.03\n",
            "================================\u001b[1m Human Message \u001b[0m=================================\n",
            "\n",
            "What is the stock price of Apple?\n",
            "==================================\u001b[1m Ai Message \u001b[0m==================================\n",
            "\n",
            "The stock price of Apple is 238.03.\n"
          ]
        }
      ]
    },
    {
      "cell_type": "code",
      "source": [
        "response = react_graph.invoke({\"query\": \"What is the stock price of the company that Jensong Huang is CEO of?\", \"messages\": []})"
      ],
      "metadata": {
        "id": "hVeTqCdSTnS5"
      },
      "execution_count": 26,
      "outputs": []
    },
    {
      "cell_type": "code",
      "source": [
        "for m in response['messages']:\n",
        "  m.pretty_print()"
      ],
      "metadata": {
        "colab": {
          "base_uri": "https://localhost:8080/"
        },
        "id": "bG2j1xEFT3wY",
        "outputId": "906ef677-c37c-4627-f66f-ff97e4405e89"
      },
      "execution_count": 27,
      "outputs": [
        {
          "output_type": "stream",
          "name": "stdout",
          "text": [
            "================================\u001b[1m Human Message \u001b[0m=================================\n",
            "\n",
            "What is the stock price of the company that Jensong Huang is CEO of?\n",
            "==================================\u001b[1m Ai Message \u001b[0m==================================\n",
            "Tool Calls:\n",
            "  duckduckgo_search (3fa6daad-a0c5-4e7b-ac06-258cb3eddd63)\n",
            " Call ID: 3fa6daad-a0c5-4e7b-ac06-258cb3eddd63\n",
            "  Args:\n",
            "    query: who is the ceo of nvidia\n",
            "=================================\u001b[1m Tool Message \u001b[0m=================================\n",
            "Name: duckduckgo_search\n",
            "\n",
            "Jensen Huang (born February 17, 1963, Tainan, Taiwan) is a Taiwanese-born American entrepreneur who cofounded the American semiconductor company NVIDIA Corporation.Under Huang's leadership, NVIDIA has become one of the leading providers of graphics processing units (GPUs) and has taken center stage in the current artificial intelligence (AI) boom. ... Jensen Huang cofounded graphics-chip maker Nvidia in 1993 and has served as its CEO and president ever since. Huang owns approximately 3% of Nvidia, which he took public in 1999. Nvidia CEO Jensen Huang says everyone should hire a virtual AI-powered tutor — and that within the next 10 years, the tool could help people become \"superhuman.\" Nvidia CEO Jensen Huang discussed artificial intelligence (AI) and more in an interview with Liz Claman on \"The Claman Countdown.\" Huang, who co-founded the California-based chipmaker in 1993 ... Nvidia CEO Jensen Huang took to the company's fourth quarter earnings call on Wednesday, looking to reaffirm the chip giant's place in the AI trade — and calm Wall Street jitters around the ...\n",
            "================================\u001b[1m Human Message \u001b[0m=================================\n",
            "\n",
            "What is the stock price of the company that Jensong Huang is CEO of?\n",
            "==================================\u001b[1m Ai Message \u001b[0m==================================\n",
            "\n",
            "Jensen Huang is the CEO of NVIDIA. What is the ticker for NVIDIA?\n",
            "Tool Calls:\n",
            "  duckduckgo_search (bf35bb4c-cdb4-4df9-8d65-b4e34f0060a9)\n",
            " Call ID: bf35bb4c-cdb4-4df9-8d65-b4e34f0060a9\n",
            "  Args:\n",
            "    query: what is the ticker for NVIDIA\n",
            "=================================\u001b[1m Tool Message \u001b[0m=================================\n",
            "Name: duckduckgo_search\n",
            "\n",
            "About NVDA. NVIDIA Corporation, a computing infrastructure company, provides graphics and compute and networking solutions in the United States, Singapore, Taiwan, China, Hong Kong, and internationally. Stock analysis for NVIDIA Corp (NVDA:NASDAQ GS) including stock price, stock chart, company news, key statistics, fundamentals and company profile. NVIDIA has a dividend yield of 0.03%, which is in the bottom 25% of all stocks that pay dividends. Dividend Growth. NVIDIA does not have a long track record of dividend growth. Dividend Coverage. The dividend payout ratio of NVIDIA is 1.36%. This payout ratio is at a healthy, sustainable level, below 75%. Dividend Sustainability View NVIDIA Corporation NVDA investment & stock information. Get the latest NVIDIA Corporation NVDA detailed stock quotes, stock data, Real-Time ECN, charts, stats and more. Stay Informed on NVDA's Latest Trades, Real-Time Updates, Trade Volume, and Price Movements. Get the most current trading insights on NVIDIA Corporation Common Stock (NVDA) with Nasdaq.\n",
            "================================\u001b[1m Human Message \u001b[0m=================================\n",
            "\n",
            "What is the stock price of the company that Jensong Huang is CEO of?\n",
            "==================================\u001b[1m Ai Message \u001b[0m==================================\n",
            "Tool Calls:\n",
            "  get_stock_price (e1bfab1c-924f-481d-9d89-af96298823f5)\n",
            " Call ID: e1bfab1c-924f-481d-9d89-af96298823f5\n",
            "  Args:\n",
            "    ticker: NVDA\n",
            "=================================\u001b[1m Tool Message \u001b[0m=================================\n",
            "Name: get_stock_price\n",
            "\n",
            "114.06\n",
            "================================\u001b[1m Human Message \u001b[0m=================================\n",
            "\n",
            "What is the stock price of the company that Jensong Huang is CEO of?\n",
            "==================================\u001b[1m Ai Message \u001b[0m==================================\n",
            "\n",
            "The stock price of NVIDIA is $114.06.\n"
          ]
        }
      ]
    },
    {
      "cell_type": "code",
      "source": [
        "response = react_graph.invoke({\"query\": \"What is the stock price of the company that Jensong Huang is the CEO of if price doubles?\"})"
      ],
      "metadata": {
        "id": "TZj3lv2RT8Wo"
      },
      "execution_count": 28,
      "outputs": []
    },
    {
      "cell_type": "code",
      "source": [
        "for m in response['messages']:\n",
        "  m.pretty_print()"
      ],
      "metadata": {
        "colab": {
          "base_uri": "https://localhost:8080/"
        },
        "id": "dah10S3FVCrq",
        "outputId": "bde26fcd-8df6-4f79-c454-ca7b07f6ca45"
      },
      "execution_count": 31,
      "outputs": [
        {
          "output_type": "stream",
          "name": "stdout",
          "text": [
            "================================\u001b[1m Human Message \u001b[0m=================================\n",
            "\n",
            "What is the stock price of the company that Jensong Huang is the CEO of if price doubles?\n",
            "==================================\u001b[1m Ai Message \u001b[0m==================================\n",
            "Tool Calls:\n",
            "  get_stock_price (9c76df8f-e7a2-4e9e-9b3f-7a0bdd35eab0)\n",
            " Call ID: 9c76df8f-e7a2-4e9e-9b3f-7a0bdd35eab0\n",
            "  Args:\n",
            "    ticker: NVDA\n",
            "=================================\u001b[1m Tool Message \u001b[0m=================================\n",
            "Name: get_stock_price\n",
            "\n",
            "114.06\n",
            "================================\u001b[1m Human Message \u001b[0m=================================\n",
            "\n",
            "What is the stock price of the company that Jensong Huang is the CEO of if price doubles?\n",
            "==================================\u001b[1m Ai Message \u001b[0m==================================\n",
            "Tool Calls:\n",
            "  multiply (63b22793-c3a2-4471-b06c-34762969addf)\n",
            " Call ID: 63b22793-c3a2-4471-b06c-34762969addf\n",
            "  Args:\n",
            "    a: 114.0\n",
            "    b: 2.0\n",
            "=================================\u001b[1m Tool Message \u001b[0m=================================\n",
            "Name: multiply\n",
            "\n",
            "228\n",
            "================================\u001b[1m Human Message \u001b[0m=================================\n",
            "\n",
            "What is the stock price of the company that Jensong Huang is the CEO of if price doubles?\n",
            "==================================\u001b[1m Ai Message \u001b[0m==================================\n",
            "\n",
            "The stock price of NVIDIA would be $228 if it doubles.\n"
          ]
        }
      ]
    },
    {
      "cell_type": "code",
      "source": [],
      "metadata": {
        "id": "6AZh4enbVKcG"
      },
      "execution_count": null,
      "outputs": []
    }
  ]
}